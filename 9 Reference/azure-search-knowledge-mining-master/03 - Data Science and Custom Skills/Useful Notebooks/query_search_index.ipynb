{
 "cells": [
  {
   "cell_type": "markdown",
   "metadata": {},
   "source": [
    "# Query Search Index\n",
    "\n",
    "This notebook contains the code to pull down the data from the search index. This is particularly useful for building and monitoring custom skills. \n",
    "\n",
    "Please set the api_key and url here. It should not be checked into source control."
   ]
  },
  {
   "cell_type": "code",
   "execution_count": null,
   "metadata": {},
   "outputs": [],
   "source": [
    "# Copyright (c) Microsoft Corporation. All rights reserved.\n",
    "# Licensed under the MIT License.\n",
    "\n",
    "api_key = ''"
   ]
  },
  {
   "cell_type": "code",
   "execution_count": null,
   "metadata": {},
   "outputs": [],
   "source": [
    "import requests\n",
    "import pandas as pd"
   ]
  },
  {
   "cell_type": "markdown",
   "metadata": {},
   "source": [
    "## 1.0 Define function to pull data down from search index\n",
    "#### query_search_index() takes in three parameters:\n",
    "\n",
    " 1. **url**: The url should be in the format of \"https://{search-service-name}.search.windows.net/indexes/{index-name}/docs?\".\n",
    " 2. **api_key**: API key can be found in the Azure Portal. \n",
    " 3. **all_rows**: Optional. The default value is False. If False, the function will return the first 50 records. If True, all rows will be returned. Depending on the size of our index this can be time consuming.\n",
    " \n",
    "Additional customization can be done: for more information please see the Azure Search Rest API Documentation at https://docs.microsoft.com/en-us/rest/api/searchservice/search-documents"
   ]
  },
  {
   "cell_type": "code",
   "execution_count": null,
   "metadata": {},
   "outputs": [],
   "source": [
    "def query_search_index(url, api_key, all_rows=False):\n",
    "    headers = {'api-key': api_key,\n",
    "               'Content-Type': 'application/json'}\n",
    "    params = {'api-version': '2017-11-11',\n",
    "              'search': '*'}\n",
    "    r = requests.get(url, params = params, headers = headers)\n",
    "\n",
    "    docs = pd.DataFrame(r.json()['value'])\n",
    "\n",
    "    #Strip whitespace from the column names\n",
    "    docs.columns = docs.columns.str.strip()\n",
    "    print(r)\n",
    "    \n",
    "    if not all_rows:\n",
    "        return docs\n",
    "    else:\n",
    "        docs_list = [docs]\n",
    "        while '@odata.nextLink' in r.json():\n",
    "            r = requests.get(r.json()['@odata.nextLink'], headers = headers)\n",
    "            docs = pd.DataFrame(r.json()['value'])\n",
    "            #Strip whitespace from the column names\n",
    "            docs.columns = docs.columns.str.strip()\n",
    "            docs_list.append(docs)\n",
    "\n",
    "        df = pd.concat(docs_list)\n",
    "        return df\n"
   ]
  },
  {
   "cell_type": "markdown",
   "metadata": {},
   "source": [
    "# 2.0 Query Search Index"
   ]
  },
  {
   "cell_type": "code",
   "execution_count": null,
   "metadata": {},
   "outputs": [],
   "source": [
    "url = \"https://{search-service-name}.search.windows.net/indexes/{index-name}/docs?\"\n",
    "df = query_search_index(url, api_key)"
   ]
  },
  {
   "cell_type": "markdown",
   "metadata": {},
   "source": [
    "# 3.0 Explore Data"
   ]
  },
  {
   "cell_type": "code",
   "execution_count": null,
   "metadata": {},
   "outputs": [],
   "source": [
    "len(df)"
   ]
  },
  {
   "cell_type": "code",
   "execution_count": null,
   "metadata": {
    "scrolled": true
   },
   "outputs": [],
   "source": [
    "df.head()"
   ]
  },
  {
   "cell_type": "code",
   "execution_count": null,
   "metadata": {},
   "outputs": [],
   "source": []
  }
 ],
 "metadata": {
  "kernelspec": {
   "display_name": "Python 3",
   "language": "python",
   "name": "python3"
  },
  "language_info": {
   "codemirror_mode": {
    "name": "ipython",
    "version": 3
   },
   "file_extension": ".py",
   "mimetype": "text/x-python",
   "name": "python",
   "nbconvert_exporter": "python",
   "pygments_lexer": "ipython3",
   "version": "3.5.6"
  }
 },
 "nbformat": 4,
 "nbformat_minor": 2
}
